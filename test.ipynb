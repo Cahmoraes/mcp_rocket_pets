{
 "cells": [
  {
   "cell_type": "code",
   "execution_count": 7,
   "id": "fcd3dae4",
   "metadata": {},
   "outputs": [],
   "source": [
    "def log(*args):\n",
    "    print(args)"
   ]
  },
  {
   "cell_type": "code",
   "execution_count": 8,
   "id": "40749543",
   "metadata": {},
   "outputs": [
    {
     "name": "stdout",
     "output_type": "stream",
     "text": [
      "('caique',)\n"
     ]
    }
   ],
   "source": [
    "log(\"caique\")"
   ]
  }
 ],
 "metadata": {
  "kernelspec": {
   "display_name": ".venv",
   "language": "python",
   "name": "python3"
  },
  "language_info": {
   "codemirror_mode": {
    "name": "ipython",
    "version": 3
   },
   "file_extension": ".py",
   "mimetype": "text/x-python",
   "name": "python",
   "nbconvert_exporter": "python",
   "pygments_lexer": "ipython3",
   "version": "3.12.6"
  }
 },
 "nbformat": 4,
 "nbformat_minor": 5
}
